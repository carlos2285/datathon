{
 "cells": [
  {
   "cell_type": "code",
   "execution_count": 3,
   "metadata": {},
   "outputs": [
    {
     "name": "stderr",
     "output_type": "stream",
     "text": [
      "Some characters could not be decoded, and were replaced with REPLACEMENT CHARACTER.\n",
      "Some characters could not be decoded, and were replaced with REPLACEMENT CHARACTER.\n",
      "Some characters could not be decoded, and were replaced with REPLACEMENT CHARACTER.\n",
      "Some characters could not be decoded, and were replaced with REPLACEMENT CHARACTER.\n",
      "Some characters could not be decoded, and were replaced with REPLACEMENT CHARACTER.\n",
      "Some characters could not be decoded, and were replaced with REPLACEMENT CHARACTER.\n",
      "Some characters could not be decoded, and were replaced with REPLACEMENT CHARACTER.\n",
      "Some characters could not be decoded, and were replaced with REPLACEMENT CHARACTER.\n",
      "Some characters could not be decoded, and were replaced with REPLACEMENT CHARACTER.\n",
      "Some characters could not be decoded, and were replaced with REPLACEMENT CHARACTER.\n",
      "Some characters could not be decoded, and were replaced with REPLACEMENT CHARACTER.\n",
      "Some characters could not be decoded, and were replaced with REPLACEMENT CHARACTER.\n",
      "Some characters could not be decoded, and were replaced with REPLACEMENT CHARACTER.\n",
      "Some characters could not be decoded, and were replaced with REPLACEMENT CHARACTER.\n",
      "Some characters could not be decoded, and were replaced with REPLACEMENT CHARACTER.\n"
     ]
    }
   ],
   "source": [
    "import requests\n",
    "from bs4 import BeautifulSoup\n",
    "import csv\n",
    "\n",
    "# URL de la página que deseas scrapear\n",
    "url = \"https://www.metrodemedellin.gov.co/usuarios/que-hacer-y-donde-ir-en-medellin\"\n",
    "\n",
    "# Hacer la solicitud HTTP a la página web\n",
    "response = requests.get(url)\n",
    "\n",
    "# Comprobar si la solicitud fue exitosa\n",
    "if response.status_code == 200:\n",
    "    # Crear el objeto BeautifulSoup para analizar el HTML\n",
    "    soup = BeautifulSoup(response.content, 'html.parser')\n",
    "    \n",
    "    # Obtener todos los enlaces (href)\n",
    "    links = []\n",
    "    for a_tag in soup.find_all('a', href=True):\n",
    "        links.append(a_tag['href'])\n",
    "    \n",
    "    # Filtrar enlaces completos (URLs absolutas)\n",
    "    filtered_links = [link for link in links if link.startswith(\"http\")]\n",
    "    \n",
    "    # Abrir un archivo CSV para guardar los datos\n",
    "    with open('scraped_texts.csv', mode='w', newline='', encoding='utf-8') as file:\n",
    "        writer = csv.writer(file)\n",
    "        writer.writerow([\"URL\", \"Texto\"])\n",
    "        \n",
    "        # Guardar el texto de la URL original\n",
    "        writer.writerow([url, soup.get_text(separator=' ', strip=True)])\n",
    "        \n",
    "        # Obtener y guardar el texto de cada URL\n",
    "        for link in filtered_links:\n",
    "            try:\n",
    "                link_response = requests.get(link)\n",
    "                if link_response.status_code == 200:\n",
    "                    link_soup = BeautifulSoup(link_response.content, 'html.parser')\n",
    "                    link_text = link_soup.get_text(separator=' ', strip=True)\n",
    "                    writer.writerow([link, link_text])\n",
    "                else:\n",
    "                    print(f\"Error al acceder a la página {link}, código de estado: {link_response.status_code}\")\n",
    "            except requests.RequestException as e:\n",
    "                print(f\"Error al intentar acceder a la URL {link}: {e}\")\n",
    "else:\n",
    "    print(f\"Error al acceder a la página, código de estado: {response.status_code}\")\n"
   ]
  }
 ],
 "metadata": {
  "kernelspec": {
   "display_name": "my-proj",
   "language": "python",
   "name": "python3"
  },
  "language_info": {
   "codemirror_mode": {
    "name": "ipython",
    "version": 3
   },
   "file_extension": ".py",
   "mimetype": "text/x-python",
   "name": "python",
   "nbconvert_exporter": "python",
   "pygments_lexer": "ipython3",
   "version": "3.12.4"
  }
 },
 "nbformat": 4,
 "nbformat_minor": 2
}
