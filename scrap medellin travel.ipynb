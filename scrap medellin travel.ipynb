{
 "cells": [
  {
   "cell_type": "code",
   "execution_count": 1,
   "metadata": {},
   "outputs": [],
   "source": [
    "import pandas as pd"
   ]
  },
  {
   "cell_type": "code",
   "execution_count": null,
   "metadata": {},
   "outputs": [],
   "source": [
    "import requests\n",
    "from bs4 import BeautifulSoup\n",
    "import re\n",
    "import os\n",
    "\n",
    "# Crear una lista para rastrear URLs ya visitadas\n",
    "visited_urls = set()\n",
    "\n",
    "# Función recursiva para scrapear cada página\n",
    "def scrape_page(url, folder_name=\"scraped_texts\"):\n",
    "    if url in visited_urls:\n",
    "        return  # Evitar visitar la misma página varias veces\n",
    "    \n",
    "    # Añadir la URL a la lista de visitados\n",
    "    visited_urls.add(url)\n",
    "    \n",
    "    # Realizar la solicitud a la página\n",
    "    try:\n",
    "        response = requests.get(url)\n",
    "    except requests.RequestException as e:\n",
    "        print(f\"Error al cargar la página {url}: {e}\")\n",
    "        return\n",
    "\n",
    "    # Verificar que la solicitud fue exitosa\n",
    "    if response.status_code == 200:\n",
    "        # Crear el objeto BeautifulSoup\n",
    "        soup = BeautifulSoup(response.text, 'html.parser')\n",
    "        \n",
    "        # Extraer y limpiar el texto\n",
    "        text = soup.get_text()\n",
    "        cleaned_text = re.sub(r'\\s+', ' ', text).strip()\n",
    "        \n",
    "        # Guardar el texto limpio en un archivo .txt\n",
    "        if not os.path.exists(folder_name):\n",
    "            os.makedirs(folder_name)\n",
    "        file_name = f\"{folder_name}/{url.replace('https://', '').replace('/', '_')}.txt\"\n",
    "        with open(file_name, \"w\", encoding=\"utf-8\") as file:\n",
    "            file.write(cleaned_text)\n",
    "        \n",
    "        print(f\"Texto exportado a {file_name}\")\n",
    "        \n",
    "        # Encontrar todos los enlaces en la página\n",
    "        links = [a['href'] for a in soup.find_all('a', href=True)]\n",
    "        \n",
    "        # Seguir cada enlace recursivamente\n",
    "        for link in links:\n",
    "            # Manejar enlaces relativos\n",
    "            if link.startswith('/'):\n",
    "                link = url + link\n",
    "            elif not link.startswith('http'):\n",
    "                continue  # Ignorar enlaces que no sean http o https\n",
    "            scrape_page(link, folder_name)  # Llamada recursiva\n",
    "    else:\n",
    "        print(f\"Error al cargar la página {url}: Status {response.status_code}\")\n",
    "\n",
    "# URL inicial\n",
    "start_url = \"https://www.medellin.travel/\"\n",
    "scrape_page(start_url)\n"
   ]
  }
 ],
 "metadata": {
  "kernelspec": {
   "display_name": "indec",
   "language": "python",
   "name": "python3"
  },
  "language_info": {
   "codemirror_mode": {
    "name": "ipython",
    "version": 3
   },
   "file_extension": ".py",
   "mimetype": "text/x-python",
   "name": "python",
   "nbconvert_exporter": "python",
   "pygments_lexer": "ipython3",
   "version": "3.13.0"
  }
 },
 "nbformat": 4,
 "nbformat_minor": 2
}
